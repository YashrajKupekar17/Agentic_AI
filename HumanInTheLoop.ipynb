{
 "cells": [
  {
   "cell_type": "code",
   "execution_count": 1,
   "id": "6a38d33f-a17f-494d-9643-b1b8980073f9",
   "metadata": {},
   "outputs": [],
   "source": [
    "from dotenv import load_dotenv\n",
    "\n",
    "_ = load_dotenv()"
   ]
  },
  {
   "cell_type": "code",
   "execution_count": 2,
   "id": "e0a2b456-636b-48b3-85ef-995661f312b1",
   "metadata": {},
   "outputs": [],
   "source": [
    "from langgraph.graph import StateGraph, END\n",
    "from typing import TypedDict, Annotated\n",
    "import operator\n",
    "from langchain_core.messages import AnyMessage, SystemMessage, HumanMessage, ToolMessage\n",
    "from langchain_openai import ChatOpenAI\n",
    "from langchain_community.tools.tavily_search import TavilySearchResults\n",
    "from langgraph.checkpoint.sqlite import SqliteSaver\n",
    "\n",
    "memory = SqliteSaver.from_conn_string(\":memory:\")"
   ]
  },
  {
   "cell_type": "code",
   "execution_count": 10,
   "id": "c6956051-576f-4a5b-b32f-d76c951138a4",
   "metadata": {},
   "outputs": [],
   "source": [
    "from contextlib import ExitStack\n",
    "\n",
    "# Use contextlib to manually enter the context manager and keep the object\n",
    "stack = ExitStack()\n",
    "\n",
    "# Create the memory context manager and enter the context\n",
    "memory= stack.enter_context(SqliteSaver.from_conn_string(\":memory:\"))\n",
    "\n"
   ]
  },
  {
   "cell_type": "code",
   "execution_count": null,
   "id": "d9c644b1-7e96-4ae1-ada4-e5b00aaa0e0e",
   "metadata": {},
   "outputs": [],
   "source": []
  },
  {
   "cell_type": "code",
   "execution_count": 11,
   "id": "5256adf7-3aa5-457e-b631-2c8509a3634b",
   "metadata": {},
   "outputs": [],
   "source": [
    "from uuid import uuid4\n",
    "from langchain_core.messages import AnyMessage, SystemMessage, HumanMessage, AIMessage\n",
    "\n",
    "\"\"\"\n",
    "In previous examples we've annotated the `messages` state key\n",
    "with the default `operator.add` or `+` reducer, which always\n",
    "appends new messages to the end of the existing messages array.\n",
    "\n",
    "Now, to support replacing existing messages, we annotate the\n",
    "`messages` key with a customer reducer function, which replaces\n",
    "messages with the same `id`, and appends them otherwise.\n",
    "\"\"\"\n",
    "def reduce_messages(left: list[AnyMessage], right: list[AnyMessage]) -> list[AnyMessage]:\n",
    "    # assign ids to messages that don't have them\n",
    "    for message in right:\n",
    "        if not message.id:\n",
    "            message.id = str(uuid4())\n",
    "    # merge the new messages with the existing messages\n",
    "    merged = left.copy()\n",
    "    for message in right:\n",
    "        for i, existing in enumerate(merged):\n",
    "            # replace any existing messages with the same id\n",
    "            if existing.id == message.id:\n",
    "                merged[i] = message\n",
    "                break\n",
    "        else:\n",
    "            # append any new messages to the end\n",
    "            merged.append(message)\n",
    "    return merged\n",
    "\n",
    "class AgentState(TypedDict):\n",
    "    messages: Annotated[list[AnyMessage], reduce_messages]"
   ]
  },
  {
   "cell_type": "code",
   "execution_count": 12,
   "id": "3a1cd17e-a7d2-4223-a178-4b28fb3e22ad",
   "metadata": {},
   "outputs": [],
   "source": [
    "tool = TavilySearchResults(max_results=2)"
   ]
  },
  {
   "cell_type": "code",
   "execution_count": 13,
   "id": "7f6cdeab-2c47-4faa-8125-2506524a2d47",
   "metadata": {},
   "outputs": [],
   "source": [
    "class Agent:\n",
    "    def __init__(self, model, tools, system=\"\", checkpointer=None):\n",
    "        self.system = system\n",
    "        graph = StateGraph(AgentState)\n",
    "        graph.add_node(\"llm\", self.call_openai)\n",
    "        graph.add_node(\"action\", self.take_action)\n",
    "        graph.add_conditional_edges(\"llm\", self.exists_action, {True: \"action\", False: END})\n",
    "        graph.add_edge(\"action\", \"llm\")\n",
    "        graph.set_entry_point(\"llm\")\n",
    "        self.graph = graph.compile(\n",
    "            checkpointer=checkpointer,\n",
    "            interrupt_before=[\"action\"]\n",
    "        )\n",
    "        self.tools = {t.name: t for t in tools}\n",
    "        self.model = model.bind_tools(tools)\n",
    "\n",
    "    def call_openai(self, state: AgentState):\n",
    "        messages = state['messages']\n",
    "        if self.system:\n",
    "            messages = [SystemMessage(content=self.system)] + messages\n",
    "        message = self.model.invoke(messages)\n",
    "        return {'messages': [message]}\n",
    "\n",
    "    def exists_action(self, state: AgentState):\n",
    "        print(state)\n",
    "        result = state['messages'][-1]\n",
    "        return len(result.tool_calls) > 0\n",
    "\n",
    "    def take_action(self, state: AgentState):\n",
    "        tool_calls = state['messages'][-1].tool_calls\n",
    "        results = []\n",
    "        for t in tool_calls:\n",
    "            print(f\"Calling: {t}\")\n",
    "            result = self.tools[t['name']].invoke(t['args'])\n",
    "            results.append(ToolMessage(tool_call_id=t['id'], name=t['name'], content=str(result)))\n",
    "        print(\"Back to the model!\")\n",
    "        return {'messages': results}"
   ]
  },
  {
   "cell_type": "code",
   "execution_count": 14,
   "id": "995eb0d0-13c8-4493-ae66-f51cfa77e596",
   "metadata": {},
   "outputs": [],
   "source": [
    "prompt = \"\"\"You are a smart research assistant. Use the search engine to look up information. \\\n",
    "You are allowed to make multiple calls (either together or in sequence). \\\n",
    "Only look up information when you are sure of what you want. \\\n",
    "If you need to look up some information before asking a follow up question, you are allowed to do that!\n",
    "\"\"\"\n",
    "model = ChatOpenAI(model=\"gpt-3.5-turbo\")\n",
    "abot = Agent(model, [tool], system=prompt, checkpointer=memory)"
   ]
  },
  {
   "cell_type": "code",
   "execution_count": 15,
   "id": "49de734b-6e50-42af-a65e-394d642db616",
   "metadata": {},
   "outputs": [
    {
     "name": "stdout",
     "output_type": "stream",
     "text": [
      "{'messages': [HumanMessage(content='Whats the weather in SF?', additional_kwargs={}, response_metadata={}, id='54cedf3a-5fff-47c8-b639-805c2f0e3ee8'), AIMessage(content='', additional_kwargs={'tool_calls': [{'id': 'call_jL5oUyyfgewT5iL2xRURRPlo', 'function': {'arguments': '{\"query\":\"weather in San Francisco\"}', 'name': 'tavily_search_results_json'}, 'type': 'function'}], 'refusal': None}, response_metadata={'token_usage': {'completion_tokens': 22, 'prompt_tokens': 152, 'total_tokens': 174, 'completion_tokens_details': {'accepted_prediction_tokens': 0, 'audio_tokens': 0, 'reasoning_tokens': 0, 'rejected_prediction_tokens': 0}, 'prompt_tokens_details': {'audio_tokens': 0, 'cached_tokens': 0}}, 'model_name': 'gpt-3.5-turbo-0125', 'system_fingerprint': None, 'id': 'chatcmpl-BUupQQGuHP6GkStpoeCrUV8wImKxQ', 'service_tier': 'default', 'finish_reason': 'tool_calls', 'logprobs': None}, id='run--cf99edd8-bfe1-47d2-8011-e2a83e34aacc-0', tool_calls=[{'name': 'tavily_search_results_json', 'args': {'query': 'weather in San Francisco'}, 'id': 'call_jL5oUyyfgewT5iL2xRURRPlo', 'type': 'tool_call'}], usage_metadata={'input_tokens': 152, 'output_tokens': 22, 'total_tokens': 174, 'input_token_details': {'audio': 0, 'cache_read': 0}, 'output_token_details': {'audio': 0, 'reasoning': 0}})]}\n",
      "{'messages': [AIMessage(content='', additional_kwargs={'tool_calls': [{'id': 'call_jL5oUyyfgewT5iL2xRURRPlo', 'function': {'arguments': '{\"query\":\"weather in San Francisco\"}', 'name': 'tavily_search_results_json'}, 'type': 'function'}], 'refusal': None}, response_metadata={'token_usage': {'completion_tokens': 22, 'prompt_tokens': 152, 'total_tokens': 174, 'completion_tokens_details': {'accepted_prediction_tokens': 0, 'audio_tokens': 0, 'reasoning_tokens': 0, 'rejected_prediction_tokens': 0}, 'prompt_tokens_details': {'audio_tokens': 0, 'cached_tokens': 0}}, 'model_name': 'gpt-3.5-turbo-0125', 'system_fingerprint': None, 'id': 'chatcmpl-BUupQQGuHP6GkStpoeCrUV8wImKxQ', 'service_tier': 'default', 'finish_reason': 'tool_calls', 'logprobs': None}, id='run--cf99edd8-bfe1-47d2-8011-e2a83e34aacc-0', tool_calls=[{'name': 'tavily_search_results_json', 'args': {'query': 'weather in San Francisco'}, 'id': 'call_jL5oUyyfgewT5iL2xRURRPlo', 'type': 'tool_call'}], usage_metadata={'input_tokens': 152, 'output_tokens': 22, 'total_tokens': 174, 'input_token_details': {'audio': 0, 'cache_read': 0}, 'output_token_details': {'audio': 0, 'reasoning': 0}})]}\n",
      "()\n"
     ]
    }
   ],
   "source": [
    "messages = [HumanMessage(content=\"Whats the weather in SF?\")]\n",
    "thread = {\"configurable\": {\"thread_id\": \"1\"}}\n",
    "for event in abot.graph.stream({\"messages\": messages}, thread):\n",
    "    for v in event.values():\n",
    "        print(v)"
   ]
  },
  {
   "cell_type": "code",
   "execution_count": 9,
   "id": "d2cfc3bd-69e9-4933-9caf-a90e33e22861",
   "metadata": {},
   "outputs": [
    {
     "data": {
      "text/plain": [
       "StateSnapshot(values={'messages': [HumanMessage(content='Whats the weather in SF?', additional_kwargs={}, response_metadata={}, id='05221632-8801-48ec-8ee1-f53ca9c82bea'), AIMessage(content='', additional_kwargs={'tool_calls': [{'id': 'call_i9oo5Lxg2ckgaKWyMKhA2OC3', 'function': {'arguments': '{\"query\":\"weather in San Francisco\"}', 'name': 'tavily_search_results_json'}, 'type': 'function'}], 'refusal': None}, response_metadata={'token_usage': {'completion_tokens': 22, 'prompt_tokens': 152, 'total_tokens': 174, 'completion_tokens_details': {'accepted_prediction_tokens': 0, 'audio_tokens': 0, 'reasoning_tokens': 0, 'rejected_prediction_tokens': 0}, 'prompt_tokens_details': {'audio_tokens': 0, 'cached_tokens': 0}}, 'model_name': 'gpt-3.5-turbo-0125', 'system_fingerprint': None, 'id': 'chatcmpl-BUv1KULSLPs3tSJkJUjW5t3XMLp49', 'service_tier': 'default', 'finish_reason': 'tool_calls', 'logprobs': None}, id='run--89f27fe5-7d19-40dd-95cf-7bf3e98cf670-0', tool_calls=[{'name': 'tavily_search_results_json', 'args': {'query': 'weather in San Francisco'}, 'id': 'call_i9oo5Lxg2ckgaKWyMKhA2OC3', 'type': 'tool_call'}], usage_metadata={'input_tokens': 152, 'output_tokens': 22, 'total_tokens': 174, 'input_token_details': {'audio': 0, 'cache_read': 0}, 'output_token_details': {'audio': 0, 'reasoning': 0}})]}, next=('action',), config={'configurable': {'thread_id': '1', 'checkpoint_ns': '', 'checkpoint_id': '1f02c0b3-f4d2-682c-8001-d31653ab951c'}}, metadata={'source': 'loop', 'writes': {'llm': {'messages': [AIMessage(content='', additional_kwargs={'tool_calls': [{'id': 'call_i9oo5Lxg2ckgaKWyMKhA2OC3', 'function': {'arguments': '{\"query\":\"weather in San Francisco\"}', 'name': 'tavily_search_results_json'}, 'type': 'function'}], 'refusal': None}, response_metadata={'token_usage': {'completion_tokens': 22, 'prompt_tokens': 152, 'total_tokens': 174, 'completion_tokens_details': {'accepted_prediction_tokens': 0, 'audio_tokens': 0, 'reasoning_tokens': 0, 'rejected_prediction_tokens': 0}, 'prompt_tokens_details': {'audio_tokens': 0, 'cached_tokens': 0}}, 'model_name': 'gpt-3.5-turbo-0125', 'system_fingerprint': None, 'id': 'chatcmpl-BUv1KULSLPs3tSJkJUjW5t3XMLp49', 'service_tier': 'default', 'finish_reason': 'tool_calls', 'logprobs': None}, id='run--89f27fe5-7d19-40dd-95cf-7bf3e98cf670-0', tool_calls=[{'name': 'tavily_search_results_json', 'args': {'query': 'weather in San Francisco'}, 'id': 'call_i9oo5Lxg2ckgaKWyMKhA2OC3', 'type': 'tool_call'}], usage_metadata={'input_tokens': 152, 'output_tokens': 22, 'total_tokens': 174, 'input_token_details': {'audio': 0, 'cache_read': 0}, 'output_token_details': {'audio': 0, 'reasoning': 0}})]}}, 'step': 1, 'parents': {}, 'thread_id': '1'}, created_at='2025-05-08T12:52:06.676841+00:00', parent_config={'configurable': {'thread_id': '1', 'checkpoint_ns': '', 'checkpoint_id': '1f02c0b3-ecfa-6078-8000-ae54129ec9e8'}}, tasks=(PregelTask(id='7add20ad-aa40-a50c-9c82-2fa3950ece72', name='action', path=('__pregel_pull', 'action'), error=None, interrupts=(), state=None, result=None),), interrupts=())"
      ]
     },
     "execution_count": 9,
     "metadata": {},
     "output_type": "execute_result"
    }
   ],
   "source": [
    "abot.graph.get_state(thread)"
   ]
  },
  {
   "cell_type": "code",
   "execution_count": 10,
   "id": "deb1f01f-11af-4700-920b-40084b1c4a67",
   "metadata": {},
   "outputs": [
    {
     "data": {
      "text/plain": [
       "('action',)"
      ]
     },
     "execution_count": 10,
     "metadata": {},
     "output_type": "execute_result"
    }
   ],
   "source": [
    "abot.graph.get_state(thread).next"
   ]
  },
  {
   "cell_type": "code",
   "execution_count": 11,
   "id": "fab0fd12-5f59-48c3-a41f-1c488d27eb0f",
   "metadata": {},
   "outputs": [
    {
     "name": "stdout",
     "output_type": "stream",
     "text": [
      "Calling: {'name': 'tavily_search_results_json', 'args': {'query': 'weather in San Francisco'}, 'id': 'call_i9oo5Lxg2ckgaKWyMKhA2OC3', 'type': 'tool_call'}\n",
      "Back to the model!\n",
      "{'messages': [ToolMessage(content=\"[{'title': 'Thursday, May 8, 2025. San Francisco, CA - Weather Forecast', 'url': 'https://weathershogun.com/weather/usa/ca/san-francisco/480/may/2025-05-08', 'content': 'San Francisco, California Weather: Thursday, May 8, 2025. Cloudy weather, overcast skies with clouds. Day 66°. Night 52°. Precipitation 25 %.', 'score': 0.9639738}, {'title': 'Weather in San Francisco in May 2025 (California)', 'url': 'https://world-weather.info/forecast/usa/san_francisco/may-2025/', 'content': 'Weather in San Francisco in May 2025. San Francisco Weather Forecast for ... Thursday, 8 May. +50°. Day. +61°. Clear sky. Friday, 9 May. +50°. Day. +55°. Clear', 'score': 0.94584644}]\", name='tavily_search_results_json', id='9d14dfa4-2dd5-4563-9d2c-66e080944e98', tool_call_id='call_i9oo5Lxg2ckgaKWyMKhA2OC3')]}\n",
      "{'messages': [HumanMessage(content='Whats the weather in SF?', additional_kwargs={}, response_metadata={}, id='05221632-8801-48ec-8ee1-f53ca9c82bea'), AIMessage(content='', additional_kwargs={'tool_calls': [{'id': 'call_i9oo5Lxg2ckgaKWyMKhA2OC3', 'function': {'arguments': '{\"query\":\"weather in San Francisco\"}', 'name': 'tavily_search_results_json'}, 'type': 'function'}], 'refusal': None}, response_metadata={'token_usage': {'completion_tokens': 22, 'prompt_tokens': 152, 'total_tokens': 174, 'completion_tokens_details': {'accepted_prediction_tokens': 0, 'audio_tokens': 0, 'reasoning_tokens': 0, 'rejected_prediction_tokens': 0}, 'prompt_tokens_details': {'audio_tokens': 0, 'cached_tokens': 0}}, 'model_name': 'gpt-3.5-turbo-0125', 'system_fingerprint': None, 'id': 'chatcmpl-BUv1KULSLPs3tSJkJUjW5t3XMLp49', 'service_tier': 'default', 'finish_reason': 'tool_calls', 'logprobs': None}, id='run--89f27fe5-7d19-40dd-95cf-7bf3e98cf670-0', tool_calls=[{'name': 'tavily_search_results_json', 'args': {'query': 'weather in San Francisco'}, 'id': 'call_i9oo5Lxg2ckgaKWyMKhA2OC3', 'type': 'tool_call'}], usage_metadata={'input_tokens': 152, 'output_tokens': 22, 'total_tokens': 174, 'input_token_details': {'audio': 0, 'cache_read': 0}, 'output_token_details': {'audio': 0, 'reasoning': 0}}), ToolMessage(content=\"[{'title': 'Thursday, May 8, 2025. San Francisco, CA - Weather Forecast', 'url': 'https://weathershogun.com/weather/usa/ca/san-francisco/480/may/2025-05-08', 'content': 'San Francisco, California Weather: Thursday, May 8, 2025. Cloudy weather, overcast skies with clouds. Day 66°. Night 52°. Precipitation 25 %.', 'score': 0.9639738}, {'title': 'Weather in San Francisco in May 2025 (California)', 'url': 'https://world-weather.info/forecast/usa/san_francisco/may-2025/', 'content': 'Weather in San Francisco in May 2025. San Francisco Weather Forecast for ... Thursday, 8 May. +50°. Day. +61°. Clear sky. Friday, 9 May. +50°. Day. +55°. Clear', 'score': 0.94584644}]\", name='tavily_search_results_json', id='9d14dfa4-2dd5-4563-9d2c-66e080944e98', tool_call_id='call_i9oo5Lxg2ckgaKWyMKhA2OC3'), AIMessage(content='The weather in San Francisco today is cloudy with overcast skies and a temperature of 66°F during the day and 52°F at night. There is a 25% chance of precipitation.', additional_kwargs={'refusal': None}, response_metadata={'token_usage': {'completion_tokens': 41, 'prompt_tokens': 405, 'total_tokens': 446, 'completion_tokens_details': {'accepted_prediction_tokens': 0, 'audio_tokens': 0, 'reasoning_tokens': 0, 'rejected_prediction_tokens': 0}, 'prompt_tokens_details': {'audio_tokens': 0, 'cached_tokens': 0}}, 'model_name': 'gpt-3.5-turbo-0125', 'system_fingerprint': None, 'id': 'chatcmpl-BUv371zMVcBhqwveI591gZvf9vDfm', 'service_tier': 'default', 'finish_reason': 'stop', 'logprobs': None}, id='run--0e7dfbbe-3b7b-4179-9abb-6266dcc8e2f7-0', usage_metadata={'input_tokens': 405, 'output_tokens': 41, 'total_tokens': 446, 'input_token_details': {'audio': 0, 'cache_read': 0}, 'output_token_details': {'audio': 0, 'reasoning': 0}})]}\n",
      "{'messages': [AIMessage(content='The weather in San Francisco today is cloudy with overcast skies and a temperature of 66°F during the day and 52°F at night. There is a 25% chance of precipitation.', additional_kwargs={'refusal': None}, response_metadata={'token_usage': {'completion_tokens': 41, 'prompt_tokens': 405, 'total_tokens': 446, 'completion_tokens_details': {'accepted_prediction_tokens': 0, 'audio_tokens': 0, 'reasoning_tokens': 0, 'rejected_prediction_tokens': 0}, 'prompt_tokens_details': {'audio_tokens': 0, 'cached_tokens': 0}}, 'model_name': 'gpt-3.5-turbo-0125', 'system_fingerprint': None, 'id': 'chatcmpl-BUv371zMVcBhqwveI591gZvf9vDfm', 'service_tier': 'default', 'finish_reason': 'stop', 'logprobs': None}, id='run--0e7dfbbe-3b7b-4179-9abb-6266dcc8e2f7-0', usage_metadata={'input_tokens': 405, 'output_tokens': 41, 'total_tokens': 446, 'input_token_details': {'audio': 0, 'cache_read': 0}, 'output_token_details': {'audio': 0, 'reasoning': 0}})]}\n"
     ]
    }
   ],
   "source": [
    "for event in abot.graph.stream(None, thread):\n",
    "    for v in event.values():\n",
    "        print(v)"
   ]
  },
  {
   "cell_type": "code",
   "execution_count": 12,
   "id": "8a8cf812-0778-4fbe-afd0-776f7c080852",
   "metadata": {},
   "outputs": [
    {
     "data": {
      "text/plain": [
       "StateSnapshot(values={'messages': [HumanMessage(content='Whats the weather in SF?', additional_kwargs={}, response_metadata={}, id='05221632-8801-48ec-8ee1-f53ca9c82bea'), AIMessage(content='', additional_kwargs={'tool_calls': [{'id': 'call_i9oo5Lxg2ckgaKWyMKhA2OC3', 'function': {'arguments': '{\"query\":\"weather in San Francisco\"}', 'name': 'tavily_search_results_json'}, 'type': 'function'}], 'refusal': None}, response_metadata={'token_usage': {'completion_tokens': 22, 'prompt_tokens': 152, 'total_tokens': 174, 'completion_tokens_details': {'accepted_prediction_tokens': 0, 'audio_tokens': 0, 'reasoning_tokens': 0, 'rejected_prediction_tokens': 0}, 'prompt_tokens_details': {'audio_tokens': 0, 'cached_tokens': 0}}, 'model_name': 'gpt-3.5-turbo-0125', 'system_fingerprint': None, 'id': 'chatcmpl-BUv1KULSLPs3tSJkJUjW5t3XMLp49', 'service_tier': 'default', 'finish_reason': 'tool_calls', 'logprobs': None}, id='run--89f27fe5-7d19-40dd-95cf-7bf3e98cf670-0', tool_calls=[{'name': 'tavily_search_results_json', 'args': {'query': 'weather in San Francisco'}, 'id': 'call_i9oo5Lxg2ckgaKWyMKhA2OC3', 'type': 'tool_call'}], usage_metadata={'input_tokens': 152, 'output_tokens': 22, 'total_tokens': 174, 'input_token_details': {'audio': 0, 'cache_read': 0}, 'output_token_details': {'audio': 0, 'reasoning': 0}}), ToolMessage(content=\"[{'title': 'Thursday, May 8, 2025. San Francisco, CA - Weather Forecast', 'url': 'https://weathershogun.com/weather/usa/ca/san-francisco/480/may/2025-05-08', 'content': 'San Francisco, California Weather: Thursday, May 8, 2025. Cloudy weather, overcast skies with clouds. Day 66°. Night 52°. Precipitation 25 %.', 'score': 0.9639738}, {'title': 'Weather in San Francisco in May 2025 (California)', 'url': 'https://world-weather.info/forecast/usa/san_francisco/may-2025/', 'content': 'Weather in San Francisco in May 2025. San Francisco Weather Forecast for ... Thursday, 8 May. +50°. Day. +61°. Clear sky. Friday, 9 May. +50°. Day. +55°. Clear', 'score': 0.94584644}]\", name='tavily_search_results_json', id='9d14dfa4-2dd5-4563-9d2c-66e080944e98', tool_call_id='call_i9oo5Lxg2ckgaKWyMKhA2OC3'), AIMessage(content='The weather in San Francisco today is cloudy with overcast skies and a temperature of 66°F during the day and 52°F at night. There is a 25% chance of precipitation.', additional_kwargs={'refusal': None}, response_metadata={'token_usage': {'completion_tokens': 41, 'prompt_tokens': 405, 'total_tokens': 446, 'completion_tokens_details': {'accepted_prediction_tokens': 0, 'audio_tokens': 0, 'reasoning_tokens': 0, 'rejected_prediction_tokens': 0}, 'prompt_tokens_details': {'audio_tokens': 0, 'cached_tokens': 0}}, 'model_name': 'gpt-3.5-turbo-0125', 'system_fingerprint': None, 'id': 'chatcmpl-BUv371zMVcBhqwveI591gZvf9vDfm', 'service_tier': 'default', 'finish_reason': 'stop', 'logprobs': None}, id='run--0e7dfbbe-3b7b-4179-9abb-6266dcc8e2f7-0', usage_metadata={'input_tokens': 405, 'output_tokens': 41, 'total_tokens': 446, 'input_token_details': {'audio': 0, 'cache_read': 0}, 'output_token_details': {'audio': 0, 'reasoning': 0}})]}, next=(), config={'configurable': {'thread_id': '1', 'checkpoint_ns': '', 'checkpoint_id': '1f02c0b8-220b-657e-8003-286f757dd02a'}}, metadata={'source': 'loop', 'writes': {'llm': {'messages': [AIMessage(content='The weather in San Francisco today is cloudy with overcast skies and a temperature of 66°F during the day and 52°F at night. There is a 25% chance of precipitation.', additional_kwargs={'refusal': None}, response_metadata={'token_usage': {'completion_tokens': 41, 'prompt_tokens': 405, 'total_tokens': 446, 'completion_tokens_details': {'accepted_prediction_tokens': 0, 'audio_tokens': 0, 'reasoning_tokens': 0, 'rejected_prediction_tokens': 0}, 'prompt_tokens_details': {'audio_tokens': 0, 'cached_tokens': 0}}, 'model_name': 'gpt-3.5-turbo-0125', 'system_fingerprint': None, 'id': 'chatcmpl-BUv371zMVcBhqwveI591gZvf9vDfm', 'service_tier': 'default', 'finish_reason': 'stop', 'logprobs': None}, id='run--0e7dfbbe-3b7b-4179-9abb-6266dcc8e2f7-0', usage_metadata={'input_tokens': 405, 'output_tokens': 41, 'total_tokens': 446, 'input_token_details': {'audio': 0, 'cache_read': 0}, 'output_token_details': {'audio': 0, 'reasoning': 0}})]}}, 'step': 3, 'parents': {}, 'thread_id': '1'}, created_at='2025-05-08T12:53:58.792887+00:00', parent_config={'configurable': {'thread_id': '1', 'checkpoint_ns': '', 'checkpoint_id': '1f02c0b8-16d3-6fee-8002-e9a9264d96eb'}}, tasks=(), interrupts=())"
      ]
     },
     "execution_count": 12,
     "metadata": {},
     "output_type": "execute_result"
    }
   ],
   "source": [
    "abot.graph.get_state(thread)"
   ]
  },
  {
   "cell_type": "code",
   "execution_count": 13,
   "id": "f9c75067-0879-4b6c-8891-ecde67935e19",
   "metadata": {},
   "outputs": [
    {
     "data": {
      "text/plain": [
       "()"
      ]
     },
     "execution_count": 13,
     "metadata": {},
     "output_type": "execute_result"
    }
   ],
   "source": [
    "abot.graph.get_state(thread).next"
   ]
  },
  {
   "cell_type": "code",
   "execution_count": 14,
   "id": "a840e07c-5776-403f-88ca-24c73439b09a",
   "metadata": {},
   "outputs": [
    {
     "name": "stdout",
     "output_type": "stream",
     "text": [
      "{'messages': [HumanMessage(content='Whats the weather in LA?', additional_kwargs={}, response_metadata={}, id='d271e167-7256-4eb5-887e-707437d02f8c'), AIMessage(content='', additional_kwargs={'tool_calls': [{'id': 'call_iC6e9ETS2AxYoangMRN3fkFL', 'function': {'arguments': '{\"query\":\"weather in Los Angeles\"}', 'name': 'tavily_search_results_json'}, 'type': 'function'}], 'refusal': None}, response_metadata={'token_usage': {'completion_tokens': 22, 'prompt_tokens': 152, 'total_tokens': 174, 'completion_tokens_details': {'accepted_prediction_tokens': 0, 'audio_tokens': 0, 'reasoning_tokens': 0, 'rejected_prediction_tokens': 0}, 'prompt_tokens_details': {'audio_tokens': 0, 'cached_tokens': 0}}, 'model_name': 'gpt-3.5-turbo-0125', 'system_fingerprint': None, 'id': 'chatcmpl-BUv3QtuE8dkhv0du0rgnnLpNoGDeI', 'service_tier': 'default', 'finish_reason': 'tool_calls', 'logprobs': None}, id='run--a198f7f5-ca10-4739-85b3-fd0aa99c09b2-0', tool_calls=[{'name': 'tavily_search_results_json', 'args': {'query': 'weather in Los Angeles'}, 'id': 'call_iC6e9ETS2AxYoangMRN3fkFL', 'type': 'tool_call'}], usage_metadata={'input_tokens': 152, 'output_tokens': 22, 'total_tokens': 174, 'input_token_details': {'audio': 0, 'cache_read': 0}, 'output_token_details': {'audio': 0, 'reasoning': 0}})]}\n",
      "{'messages': [AIMessage(content='', additional_kwargs={'tool_calls': [{'id': 'call_iC6e9ETS2AxYoangMRN3fkFL', 'function': {'arguments': '{\"query\":\"weather in Los Angeles\"}', 'name': 'tavily_search_results_json'}, 'type': 'function'}], 'refusal': None}, response_metadata={'token_usage': {'completion_tokens': 22, 'prompt_tokens': 152, 'total_tokens': 174, 'completion_tokens_details': {'accepted_prediction_tokens': 0, 'audio_tokens': 0, 'reasoning_tokens': 0, 'rejected_prediction_tokens': 0}, 'prompt_tokens_details': {'audio_tokens': 0, 'cached_tokens': 0}}, 'model_name': 'gpt-3.5-turbo-0125', 'system_fingerprint': None, 'id': 'chatcmpl-BUv3QtuE8dkhv0du0rgnnLpNoGDeI', 'service_tier': 'default', 'finish_reason': 'tool_calls', 'logprobs': None}, id='run--a198f7f5-ca10-4739-85b3-fd0aa99c09b2-0', tool_calls=[{'name': 'tavily_search_results_json', 'args': {'query': 'weather in Los Angeles'}, 'id': 'call_iC6e9ETS2AxYoangMRN3fkFL', 'type': 'tool_call'}], usage_metadata={'input_tokens': 152, 'output_tokens': 22, 'total_tokens': 174, 'input_token_details': {'audio': 0, 'cache_read': 0}, 'output_token_details': {'audio': 0, 'reasoning': 0}})]}\n",
      "()\n",
      "\n",
      " StateSnapshot(values={'messages': [HumanMessage(content='Whats the weather in LA?', additional_kwargs={}, response_metadata={}, id='d271e167-7256-4eb5-887e-707437d02f8c'), AIMessage(content='', additional_kwargs={'tool_calls': [{'id': 'call_iC6e9ETS2AxYoangMRN3fkFL', 'function': {'arguments': '{\"query\":\"weather in Los Angeles\"}', 'name': 'tavily_search_results_json'}, 'type': 'function'}], 'refusal': None}, response_metadata={'token_usage': {'completion_tokens': 22, 'prompt_tokens': 152, 'total_tokens': 174, 'completion_tokens_details': {'accepted_prediction_tokens': 0, 'audio_tokens': 0, 'reasoning_tokens': 0, 'rejected_prediction_tokens': 0}, 'prompt_tokens_details': {'audio_tokens': 0, 'cached_tokens': 0}}, 'model_name': 'gpt-3.5-turbo-0125', 'system_fingerprint': None, 'id': 'chatcmpl-BUv3QtuE8dkhv0du0rgnnLpNoGDeI', 'service_tier': 'default', 'finish_reason': 'tool_calls', 'logprobs': None}, id='run--a198f7f5-ca10-4739-85b3-fd0aa99c09b2-0', tool_calls=[{'name': 'tavily_search_results_json', 'args': {'query': 'weather in Los Angeles'}, 'id': 'call_iC6e9ETS2AxYoangMRN3fkFL', 'type': 'tool_call'}], usage_metadata={'input_tokens': 152, 'output_tokens': 22, 'total_tokens': 174, 'input_token_details': {'audio': 0, 'cache_read': 0}, 'output_token_details': {'audio': 0, 'reasoning': 0}})]}, next=('action',), config={'configurable': {'thread_id': '2', 'checkpoint_ns': '', 'checkpoint_id': '1f02c0b8-d4bf-626a-8001-843de48e83f3'}}, metadata={'source': 'loop', 'writes': {'llm': {'messages': [AIMessage(content='', additional_kwargs={'tool_calls': [{'id': 'call_iC6e9ETS2AxYoangMRN3fkFL', 'function': {'arguments': '{\"query\":\"weather in Los Angeles\"}', 'name': 'tavily_search_results_json'}, 'type': 'function'}], 'refusal': None}, response_metadata={'token_usage': {'completion_tokens': 22, 'prompt_tokens': 152, 'total_tokens': 174, 'completion_tokens_details': {'accepted_prediction_tokens': 0, 'audio_tokens': 0, 'reasoning_tokens': 0, 'rejected_prediction_tokens': 0}, 'prompt_tokens_details': {'audio_tokens': 0, 'cached_tokens': 0}}, 'model_name': 'gpt-3.5-turbo-0125', 'system_fingerprint': None, 'id': 'chatcmpl-BUv3QtuE8dkhv0du0rgnnLpNoGDeI', 'service_tier': 'default', 'finish_reason': 'tool_calls', 'logprobs': None}, id='run--a198f7f5-ca10-4739-85b3-fd0aa99c09b2-0', tool_calls=[{'name': 'tavily_search_results_json', 'args': {'query': 'weather in Los Angeles'}, 'id': 'call_iC6e9ETS2AxYoangMRN3fkFL', 'type': 'tool_call'}], usage_metadata={'input_tokens': 152, 'output_tokens': 22, 'total_tokens': 174, 'input_token_details': {'audio': 0, 'cache_read': 0}, 'output_token_details': {'audio': 0, 'reasoning': 0}})]}}, 'step': 1, 'parents': {}, 'thread_id': '2'}, created_at='2025-05-08T12:54:17.531206+00:00', parent_config={'configurable': {'thread_id': '2', 'checkpoint_ns': '', 'checkpoint_id': '1f02c0b8-c921-694e-8000-02a47439d6a1'}}, tasks=(PregelTask(id='9923fa68-4399-4476-e659-fd0b78783392', name='action', path=('__pregel_pull', 'action'), error=None, interrupts=(), state=None, result=None),), interrupts=()) \n",
      "\n"
     ]
    },
    {
     "name": "stdin",
     "output_type": "stream",
     "text": [
      "proceed? y\n"
     ]
    },
    {
     "name": "stdout",
     "output_type": "stream",
     "text": [
      "Calling: {'name': 'tavily_search_results_json', 'args': {'query': 'weather in Los Angeles'}, 'id': 'call_iC6e9ETS2AxYoangMRN3fkFL', 'type': 'tool_call'}\n",
      "Back to the model!\n",
      "{'messages': [ToolMessage(content='[{\\'title\\': \\'Weather in Los Angeles\\', \\'url\\': \\'https://www.weatherapi.com/\\', \\'content\\': \"{\\'location\\': {\\'name\\': \\'Los Angeles\\', \\'region\\': \\'California\\', \\'country\\': \\'United States of America\\', \\'lat\\': 34.0522, \\'lon\\': -118.2428, \\'tz_id\\': \\'America/Los_Angeles\\', \\'localtime_epoch\\': 1746708959, \\'localtime\\': \\'2025-05-08 05:55\\'}, \\'current\\': {\\'last_updated_epoch\\': 1746708300, \\'last_updated\\': \\'2025-05-08 05:45\\', \\'temp_c\\': 13.9, \\'temp_f\\': 57.0, \\'is_day\\': 0, \\'condition\\': {\\'text\\': \\'Partly Cloudy\\', \\'icon\\': \\'//cdn.weatherapi.com/weather/64x64/night/116.png\\', \\'code\\': 1003}, \\'wind_mph\\': 2.2, \\'wind_kph\\': 3.6, \\'wind_degree\\': 245, \\'wind_dir\\': \\'WSW\\', \\'pressure_mb\\': 1018.0, \\'pressure_in\\': 30.06, \\'precip_mm\\': 0.0, \\'precip_in\\': 0.0, \\'humidity\\': 87, \\'cloud\\': 0, \\'feelslike_c\\': 14.6, \\'feelslike_f\\': 58.2, \\'windchill_c\\': 14.1, \\'windchill_f\\': 57.4, \\'heatindex_c\\': 14.1, \\'heatindex_f\\': 57.3, \\'dewpoint_c\\': 12.3, \\'dewpoint_f\\': 54.2, \\'vis_km\\': 13.0, \\'vis_miles\\': 8.0, \\'uv\\': 0.0, \\'gust_mph\\': 6.7, \\'gust_kph\\': 10.8}}\", \\'score\\': 0.9643852}, {\\'title\\': \\'Current Weather - Los Angeles, CA - AccuWeather\\', \\'url\\': \\'https://www.accuweather.com/en/us/los-angeles/90012/current-weather/347625\\', \\'content\\': \\'RealFeel Guide\\\\nChilly\\\\n40° to 52°\\\\nJacket or sweater is recommended.\\\\nLEARN MORE\\\\nPartly cloudy\\\\nWindSE 5 mph\\\\nWind Gusts9 mph\\\\nProbability of Precipitation0%\\\\nProbability of Thunderstorms0%\\\\nPrecipitation0.00 in\\\\nCloud Cover66%\\\\nEvening\\\\nOvernight\\\\nAccuWeather NOW [...] Current Weather\\\\n5:03 PM\\\\n58°F\\\\nMostly sunny\\\\nRealFeel® 61°\\\\nCool\\\\nRealFeel Guide\\\\nCool\\\\n53° to 62°\\\\nLight jacket or sweater may be appropriate.\\\\nLEARN MORE\\\\nRealFeel Shade™ 58°\\\\nCool\\\\nRealFeel Guide\\\\nCool\\\\n53° to 62°\\\\nLight jacket or sweater may be appropriate.\\\\nLEARN MORE\\\\nRealFeel®\\\\n61°\\\\nRealFeel Shade™\\\\n58°\\\\nMax UV Index\\\\n1 Low\\\\nWind\\\\nSW 3 mph\\\\nWind Gusts\\\\n6 mph\\\\nHumidity\\\\n81%\\\\nIndoor Humidity\\\\n57% (Ideal Humidity)\\\\nDew Point\\\\n52° F\\\\nPressure\\\\n↓ 30.09 in\\\\nCloud Cover\\\\n27%\\\\nVisibility\\\\n10 mi\\\\nCloud Ceiling\\\\n40000 ft\\\\nDay\\\\n2/7\\\\n60°Hi [...] RealFeel® 61°\\\\nCool\\\\nRealFeel Guide\\\\nCool\\\\n53° to 62°\\\\nLight jacket or sweater may be appropriate.\\\\nLEARN MORE\\\\nRealFeel Shade™ 59°\\\\nCool\\\\nRealFeel Guide\\\\nCool\\\\n53° to 62°\\\\nLight jacket or sweater may be appropriate.\\\\nLEARN MORE\\\\nCool; cloudy this morning, then times of clouds and sun this afternoon\\\\nMax UV Index3 Moderate\\\\nWindSW 7 mph\\\\nWind Gusts18 mph\\\\nProbability of Precipitation25%\\\\nProbability of Thunderstorms1%\\\\nPrecipitation0.00 in\\\\nCloud Cover72%\\\\nMorning\\\\nAfternoon\\\\nNight\\\\n2/7\\\\n48°Lo\\\\nRealFeel® 48°\\\\nChilly\\', \\'score\\': 0.6530611}]', name='tavily_search_results_json', id='c25d670f-b15c-46dd-94f1-398b132f13d3', tool_call_id='call_iC6e9ETS2AxYoangMRN3fkFL')]}\n",
      "{'messages': [HumanMessage(content='Whats the weather in LA?', additional_kwargs={}, response_metadata={}, id='d271e167-7256-4eb5-887e-707437d02f8c'), AIMessage(content='', additional_kwargs={'tool_calls': [{'id': 'call_iC6e9ETS2AxYoangMRN3fkFL', 'function': {'arguments': '{\"query\":\"weather in Los Angeles\"}', 'name': 'tavily_search_results_json'}, 'type': 'function'}], 'refusal': None}, response_metadata={'token_usage': {'completion_tokens': 22, 'prompt_tokens': 152, 'total_tokens': 174, 'completion_tokens_details': {'accepted_prediction_tokens': 0, 'audio_tokens': 0, 'reasoning_tokens': 0, 'rejected_prediction_tokens': 0}, 'prompt_tokens_details': {'audio_tokens': 0, 'cached_tokens': 0}}, 'model_name': 'gpt-3.5-turbo-0125', 'system_fingerprint': None, 'id': 'chatcmpl-BUv3QtuE8dkhv0du0rgnnLpNoGDeI', 'service_tier': 'default', 'finish_reason': 'tool_calls', 'logprobs': None}, id='run--a198f7f5-ca10-4739-85b3-fd0aa99c09b2-0', tool_calls=[{'name': 'tavily_search_results_json', 'args': {'query': 'weather in Los Angeles'}, 'id': 'call_iC6e9ETS2AxYoangMRN3fkFL', 'type': 'tool_call'}], usage_metadata={'input_tokens': 152, 'output_tokens': 22, 'total_tokens': 174, 'input_token_details': {'audio': 0, 'cache_read': 0}, 'output_token_details': {'audio': 0, 'reasoning': 0}}), ToolMessage(content='[{\\'title\\': \\'Weather in Los Angeles\\', \\'url\\': \\'https://www.weatherapi.com/\\', \\'content\\': \"{\\'location\\': {\\'name\\': \\'Los Angeles\\', \\'region\\': \\'California\\', \\'country\\': \\'United States of America\\', \\'lat\\': 34.0522, \\'lon\\': -118.2428, \\'tz_id\\': \\'America/Los_Angeles\\', \\'localtime_epoch\\': 1746708959, \\'localtime\\': \\'2025-05-08 05:55\\'}, \\'current\\': {\\'last_updated_epoch\\': 1746708300, \\'last_updated\\': \\'2025-05-08 05:45\\', \\'temp_c\\': 13.9, \\'temp_f\\': 57.0, \\'is_day\\': 0, \\'condition\\': {\\'text\\': \\'Partly Cloudy\\', \\'icon\\': \\'//cdn.weatherapi.com/weather/64x64/night/116.png\\', \\'code\\': 1003}, \\'wind_mph\\': 2.2, \\'wind_kph\\': 3.6, \\'wind_degree\\': 245, \\'wind_dir\\': \\'WSW\\', \\'pressure_mb\\': 1018.0, \\'pressure_in\\': 30.06, \\'precip_mm\\': 0.0, \\'precip_in\\': 0.0, \\'humidity\\': 87, \\'cloud\\': 0, \\'feelslike_c\\': 14.6, \\'feelslike_f\\': 58.2, \\'windchill_c\\': 14.1, \\'windchill_f\\': 57.4, \\'heatindex_c\\': 14.1, \\'heatindex_f\\': 57.3, \\'dewpoint_c\\': 12.3, \\'dewpoint_f\\': 54.2, \\'vis_km\\': 13.0, \\'vis_miles\\': 8.0, \\'uv\\': 0.0, \\'gust_mph\\': 6.7, \\'gust_kph\\': 10.8}}\", \\'score\\': 0.9643852}, {\\'title\\': \\'Current Weather - Los Angeles, CA - AccuWeather\\', \\'url\\': \\'https://www.accuweather.com/en/us/los-angeles/90012/current-weather/347625\\', \\'content\\': \\'RealFeel Guide\\\\nChilly\\\\n40° to 52°\\\\nJacket or sweater is recommended.\\\\nLEARN MORE\\\\nPartly cloudy\\\\nWindSE 5 mph\\\\nWind Gusts9 mph\\\\nProbability of Precipitation0%\\\\nProbability of Thunderstorms0%\\\\nPrecipitation0.00 in\\\\nCloud Cover66%\\\\nEvening\\\\nOvernight\\\\nAccuWeather NOW [...] Current Weather\\\\n5:03 PM\\\\n58°F\\\\nMostly sunny\\\\nRealFeel® 61°\\\\nCool\\\\nRealFeel Guide\\\\nCool\\\\n53° to 62°\\\\nLight jacket or sweater may be appropriate.\\\\nLEARN MORE\\\\nRealFeel Shade™ 58°\\\\nCool\\\\nRealFeel Guide\\\\nCool\\\\n53° to 62°\\\\nLight jacket or sweater may be appropriate.\\\\nLEARN MORE\\\\nRealFeel®\\\\n61°\\\\nRealFeel Shade™\\\\n58°\\\\nMax UV Index\\\\n1 Low\\\\nWind\\\\nSW 3 mph\\\\nWind Gusts\\\\n6 mph\\\\nHumidity\\\\n81%\\\\nIndoor Humidity\\\\n57% (Ideal Humidity)\\\\nDew Point\\\\n52° F\\\\nPressure\\\\n↓ 30.09 in\\\\nCloud Cover\\\\n27%\\\\nVisibility\\\\n10 mi\\\\nCloud Ceiling\\\\n40000 ft\\\\nDay\\\\n2/7\\\\n60°Hi [...] RealFeel® 61°\\\\nCool\\\\nRealFeel Guide\\\\nCool\\\\n53° to 62°\\\\nLight jacket or sweater may be appropriate.\\\\nLEARN MORE\\\\nRealFeel Shade™ 59°\\\\nCool\\\\nRealFeel Guide\\\\nCool\\\\n53° to 62°\\\\nLight jacket or sweater may be appropriate.\\\\nLEARN MORE\\\\nCool; cloudy this morning, then times of clouds and sun this afternoon\\\\nMax UV Index3 Moderate\\\\nWindSW 7 mph\\\\nWind Gusts18 mph\\\\nProbability of Precipitation25%\\\\nProbability of Thunderstorms1%\\\\nPrecipitation0.00 in\\\\nCloud Cover72%\\\\nMorning\\\\nAfternoon\\\\nNight\\\\n2/7\\\\n48°Lo\\\\nRealFeel® 48°\\\\nChilly\\', \\'score\\': 0.6530611}]', name='tavily_search_results_json', id='c25d670f-b15c-46dd-94f1-398b132f13d3', tool_call_id='call_iC6e9ETS2AxYoangMRN3fkFL'), AIMessage(content='The current weather in Los Angeles is 57°F with partly cloudy conditions. The wind speed is around 3.6 kph coming from the WSW direction. The humidity is at 87%, and there is no precipitation at the moment.', additional_kwargs={'refusal': None}, response_metadata={'token_usage': {'completion_tokens': 51, 'prompt_tokens': 1113, 'total_tokens': 1164, 'completion_tokens_details': {'accepted_prediction_tokens': 0, 'audio_tokens': 0, 'reasoning_tokens': 0, 'rejected_prediction_tokens': 0}, 'prompt_tokens_details': {'audio_tokens': 0, 'cached_tokens': 0}}, 'model_name': 'gpt-3.5-turbo-0125', 'system_fingerprint': None, 'id': 'chatcmpl-BUv5AspTUdlCRo9hQmFDyHUukcz7C', 'service_tier': 'default', 'finish_reason': 'stop', 'logprobs': None}, id='run--fd35bdea-fb2b-4ad5-88c3-1461f5033b42-0', usage_metadata={'input_tokens': 1113, 'output_tokens': 51, 'total_tokens': 1164, 'input_token_details': {'audio': 0, 'cache_read': 0}, 'output_token_details': {'audio': 0, 'reasoning': 0}})]}\n",
      "{'messages': [AIMessage(content='The current weather in Los Angeles is 57°F with partly cloudy conditions. The wind speed is around 3.6 kph coming from the WSW direction. The humidity is at 87%, and there is no precipitation at the moment.', additional_kwargs={'refusal': None}, response_metadata={'token_usage': {'completion_tokens': 51, 'prompt_tokens': 1113, 'total_tokens': 1164, 'completion_tokens_details': {'accepted_prediction_tokens': 0, 'audio_tokens': 0, 'reasoning_tokens': 0, 'rejected_prediction_tokens': 0}, 'prompt_tokens_details': {'audio_tokens': 0, 'cached_tokens': 0}}, 'model_name': 'gpt-3.5-turbo-0125', 'system_fingerprint': None, 'id': 'chatcmpl-BUv5AspTUdlCRo9hQmFDyHUukcz7C', 'service_tier': 'default', 'finish_reason': 'stop', 'logprobs': None}, id='run--fd35bdea-fb2b-4ad5-88c3-1461f5033b42-0', usage_metadata={'input_tokens': 1113, 'output_tokens': 51, 'total_tokens': 1164, 'input_token_details': {'audio': 0, 'cache_read': 0}, 'output_token_details': {'audio': 0, 'reasoning': 0}})]}\n"
     ]
    }
   ],
   "source": [
    "messages = [HumanMessage(\"Whats the weather in LA?\")]\n",
    "thread = {\"configurable\": {\"thread_id\": \"2\"}}\n",
    "for event in abot.graph.stream({\"messages\": messages}, thread):\n",
    "    for v in event.values():\n",
    "        print(v)\n",
    "while abot.graph.get_state(thread).next:\n",
    "    print(\"\\n\", abot.graph.get_state(thread),\"\\n\")\n",
    "    _input = input(\"proceed?\")\n",
    "    if _input != \"y\":\n",
    "        print(\"aborting\")\n",
    "        break\n",
    "    for event in abot.graph.stream(None, thread):\n",
    "        for v in event.values():\n",
    "            print(v)"
   ]
  },
  {
   "cell_type": "code",
   "execution_count": null,
   "id": "d173cc03-2bd7-4a08-977b-00d3de87c9a3",
   "metadata": {},
   "outputs": [],
   "source": []
  }
 ],
 "metadata": {
  "kernelspec": {
   "display_name": "Python (lang)",
   "language": "python",
   "name": "lang"
  },
  "language_info": {
   "codemirror_mode": {
    "name": "ipython",
    "version": 3
   },
   "file_extension": ".py",
   "mimetype": "text/x-python",
   "name": "python",
   "nbconvert_exporter": "python",
   "pygments_lexer": "ipython3",
   "version": "3.13.2"
  }
 },
 "nbformat": 4,
 "nbformat_minor": 5
}

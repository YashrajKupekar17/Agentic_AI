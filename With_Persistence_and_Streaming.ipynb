{
 "cells": [
  {
   "cell_type": "code",
   "execution_count": 1,
   "id": "8024bc89-5d4d-4ca9-b6dd-9dfa78c9ef96",
   "metadata": {},
   "outputs": [],
   "source": [
    "#Lets make a ReAct (Reason + Action) agent using LangGraph .\n",
    "#The Architecture of the agent is going to be simple . One llm node, one action node and \n",
    "#the conditional edges and one edge for looping from action node to the llm\n",
    "\n"
   ]
  },
  {
   "cell_type": "code",
   "execution_count": 2,
   "id": "74b70788-8116-44bc-ba14-a9f8b2c81f9b",
   "metadata": {},
   "outputs": [],
   "source": [
    "#First we need to import the libraries and the essential classes \n",
    "#dotenv to get the api key from .env\n",
    "from dotenv import load_dotenv\n",
    "_ = load_dotenv()"
   ]
  },
  {
   "cell_type": "code",
   "execution_count": 3,
   "id": "a6319ffa-4e54-49c8-92b4-784e44f8a803",
   "metadata": {},
   "outputs": [],
   "source": [
    "#Then we need to use a graph called State Graph . State Graph is a type of graph that keeps the remembers the state of the graph , \n",
    "#which will be helpful for context \n",
    "from langgraph.graph import StateGraph, END #END represents the terminal node of the graph\n",
    "\n",
    "from typing import TypedDict, Annotated    # TypedDict is a class that allows us to define a dictionary with the specified type \n",
    "#and Annotated is used to add some explaination text with the datatpye \n"
   ]
  },
  {
   "cell_type": "code",
   "execution_count": 4,
   "id": "76d29cb2-ec99-4960-ba36-dd435b6d525f",
   "metadata": {},
   "outputs": [],
   "source": [
    "#Now Lets import other things \n",
    "import operator\n",
    "from langchain_core.messages import AnyMessage, SystemMessage, HumanMessage, ToolMessage\n",
    "from langchain_openai import ChatOpenAI\n",
    "from langchain_community.tools.tavily_search import TavilySearchResults"
   ]
  },
  {
   "cell_type": "code",
   "execution_count": 5,
   "id": "f7841fa2-add9-4134-b819-d078b0a9e6dc",
   "metadata": {},
   "outputs": [
    {
     "name": "stdout",
     "output_type": "stream",
     "text": [
      "<class 'langchain_community.tools.tavily_search.tool.TavilySearchResults'>\n",
      "tavily_search_results_json\n"
     ]
    }
   ],
   "source": [
    "tool = TavilySearchResults(max_results=4) #increased number of results\n",
    "print(type(tool))\n",
    "print(tool.name)"
   ]
  },
  {
   "cell_type": "code",
   "execution_count": 6,
   "id": "50033c59-df77-48e4-869d-ce4a94e63859",
   "metadata": {},
   "outputs": [],
   "source": [
    "# Define the shape of the shared state for our graph‑based agent.\n",
    "# We use TypedDict so Python (and tools like mypy) know exactly which keys exist.\n",
    "\n",
    "\n",
    "class AgentState(TypedDict):\n",
    "    messages : Annotated[list[AnyMessage],operator.add]\n",
    "\n",
    "    \n",
    "#This state inherits the TypedDict . \n",
    "# The `messages` key holds the entire conversation history—\n",
    "# a list of AnyMessage instances (HumanMessage, AIMessage, ToolMessage, etc.).\n",
    "#\n",
    "# We wrap the type in Annotated[..., operator.add] to tell LangGraph:\n",
    "#   “When a node returns new messages, append them to the existing list,\n",
    "#    rather than replacing the list outright.”\n",
    "#\n",
    "# operator.add is simply Python’s list‑concatenation function,\n",
    "# so state['messages'] + new_messages becomes the updated history"
   ]
  },
  {
   "cell_type": "code",
   "execution_count": 7,
   "id": "08075c30-3402-4a3e-b4e9-340255328b99",
   "metadata": {},
   "outputs": [],
   "source": [
    "from langgraph.checkpoint.sqlite import SqliteSaver\n",
    "\n",
    "from contextlib import ExitStack\n",
    "\n",
    "# Use contextlib to manually enter the context manager and keep the object\n",
    "stack = ExitStack()\n",
    "\n",
    "# Create the memory context manager and enter the context\n",
    "memory= stack.enter_context(SqliteSaver.from_conn_string(\":memory:\"))\n"
   ]
  },
  {
   "cell_type": "code",
   "execution_count": 8,
   "id": "aeea2acf-fb9e-43db-b24b-95c449a7d1ab",
   "metadata": {},
   "outputs": [],
   "source": [
    "# Define the Agent class that drives the conversational flow using a state graph\n",
    "class Agent:\n",
    "    def __init__(self, tools, model, checkpointer,system_message=\"\"):\n",
    "        self.system_message = system_message  # Optional system message to guide LLM behavior\n",
    "\n",
    "        # Create a new state graph where each node represents a step in the agent's reasoning\n",
    "        graph = StateGraph(AgentState)\n",
    "\n",
    "        # Add the LLM node: calls the model to generate a response\n",
    "        graph.add_node(\"llm\", self.call_openai)\n",
    "\n",
    "        # Add the action node: calls tools if the model requests them\n",
    "        graph.add_node(\"action\", self.take_action)\n",
    "\n",
    "        # Set up a conditional path: if the LLM response includes a tool call, go to 'action' node\n",
    "        # Otherwise, end the graph execution\n",
    "        graph.add_conditional_edges(\n",
    "            \"llm\",\n",
    "            self.exists_action,\n",
    "            {True: \"action\", False: END}\n",
    "        )\n",
    "\n",
    "        # After executing the action, loop back to the LLM to continue the conversation\n",
    "        graph.add_edge(\"action\", \"llm\")\n",
    "\n",
    "        # Define the entry point of the graph (start from LLM)\n",
    "        graph.set_entry_point(\"llm\")\n",
    "\n",
    "        # Compile the graph so it can be executed\n",
    "        self.graph = graph.compile(checkpointer=checkpointer)\n",
    "\n",
    "        # Store tools in a dictionary for easy lookup by name\n",
    "        self.tools = {t.name: t for t in tools}\n",
    "\n",
    "        # Bind the tools to the model (e.g., OpenAI with tool-calling support)\n",
    "        self.model = model.bind_tools(tools)\n",
    "\n",
    "    # This function checks if the latest LLM message includes any tool calls\n",
    "    def exists_action(self, state: AgentState):\n",
    "        result = state['messages'][-1]\n",
    "        return len(result.tool_calls) > 0\n",
    "\n",
    "    # This function sends the messages to the model and gets a new response\n",
    "    def call_openai(self, state: AgentState):\n",
    "        messages = state['messages']\n",
    "        if self.system_message:\n",
    "            # Prepend the system message to guide the model if it's provided\n",
    "            messages = [SystemMessage(content=self.system_message)] + messages\n",
    "        message = self.model.invoke(messages)\n",
    "        return {'messages': [message]}\n",
    "\n",
    "    # This function is responsible for executing tool calls requested by the model\n",
    "    def take_action(self, state: AgentState):\n",
    "        tool_calls = state['messages'][-1].tool_calls\n",
    "        results = []\n",
    "        for t in tool_calls:\n",
    "            print(f\"Calling: {t}\")\n",
    "            if not t['name'] in self.tools:  # Check if the tool name is valid\n",
    "                print(\"\\n ....bad tool name....\")\n",
    "                result = \"bad tool name, retry\"  # Instruct LLM to retry on invalid tool call\n",
    "            else:\n",
    "                # Call the actual tool with provided arguments\n",
    "                result = self.tools[t['name']].invoke(t['args'])\n",
    "\n",
    "            # Wrap the tool result in a ToolMessage to pass it back to the model\n",
    "            results.append(ToolMessage(tool_call_id=t['id'], name=t['name'], content=str(result)))\n",
    "\n",
    "        print(\"Back to the model!\")  # Indicates loop back to model\n",
    "        return {'messages': results}\n"
   ]
  },
  {
   "cell_type": "code",
   "execution_count": 9,
   "id": "41bb3f7b-e20b-4edd-9e82-88ed29250eb2",
   "metadata": {},
   "outputs": [],
   "source": [
    "\n",
    "\n",
    "prompt = \"\"\"You are a smart research assistant. Use the search engine to look up information. \\\n",
    "You are allowed to make multiple calls (either together or in sequence). \\\n",
    "Only look up information when you are sure of what you want. \\\n",
    "If you need to look up some information before asking a follow up question, you are allowed to do that!\n",
    "\"\"\"\n",
    "\n",
    "model = ChatOpenAI(model=\"gpt-3.5-turbo\")  #reduce inference cost\n",
    "bot = Agent([tool],model, checkpointer=memory,system_message=prompt)"
   ]
  },
  {
   "cell_type": "code",
   "execution_count": 11,
   "id": "d4a3934e-3c11-496b-a089-6416816e6d78",
   "metadata": {
    "scrolled": true
   },
   "outputs": [
    {
     "data": {
      "image/png": "[encoded data removed]",
      "text/plain": [
       "<IPython.core.display.Image object>"
      ]
     },
     "execution_count": 11,
     "metadata": {},
     "output_type": "execute_result"
    }
   ],
   "source": [
    "from IPython.display import Image\n",
    "\n",
    "Image(bot.graph.get_graph().draw_png())"
   ]
  },
  {
   "cell_type": "markdown",
   "id": "e536e658-0ce8-413d-9911-7b24a899ae95",
   "metadata": {},
   "source": [
    "\n",
    "## Now Lets Use persistence and Streaming"
   ]
  },
  {
   "cell_type": "code",
   "execution_count": 12,
   "id": "d850fc7d-033e-4fb9-be74-c1bb2f5aa713",
   "metadata": {},
   "outputs": [],
   "source": [
    "messages = [HumanMessage(content=\"What is the weather in sf?\")]"
   ]
  },
  {
   "cell_type": "code",
   "execution_count": 13,
   "id": "c3fe6f46-d54a-42c3-84ab-72140478ccee",
   "metadata": {},
   "outputs": [],
   "source": [
    "thread = {\"configurable\": {\"thread_id\": \"1\"}}"
   ]
  },
  {
   "cell_type": "code",
   "execution_count": 15,
   "id": "7de280cf-df6a-46cb-bdd0-5f5a71d379e8",
   "metadata": {},
   "outputs": [
    {
     "name": "stdout",
     "output_type": "stream",
     "text": [
      "[AIMessage(content='', additional_kwargs={'tool_calls': [{'id': 'call_YDX5lzFtJ1czVNBnXy3JTH9N', 'function': {'arguments': '{\"query\":\"weather in San Francisco\"}', 'name': 'tavily_search_results_json'}, 'type': 'function'}], 'refusal': None}, response_metadata={'token_usage': {'completion_tokens': 22, 'prompt_tokens': 153, 'total_tokens': 175, 'completion_tokens_details': {'accepted_prediction_tokens': 0, 'audio_tokens': 0, 'reasoning_tokens': 0, 'rejected_prediction_tokens': 0}, 'prompt_tokens_details': {'audio_tokens': 0, 'cached_tokens': 0}}, 'model_name': 'gpt-3.5-turbo-0125', 'system_fingerprint': None, 'id': 'chatcmpl-BUuu6GukW50LDXcSTvqGgaJCp1xJN', 'service_tier': 'default', 'finish_reason': 'tool_calls', 'logprobs': None}, id='run--4c6dd794-ce04-4756-b8ed-edb3a60984ae-0', tool_calls=[{'name': 'tavily_search_results_json', 'args': {'query': 'weather in San Francisco'}, 'id': 'call_YDX5lzFtJ1czVNBnXy3JTH9N', 'type': 'tool_call'}], usage_metadata={'input_tokens': 153, 'output_tokens': 22, 'total_tokens': 175, 'input_token_details': {'audio': 0, 'cache_read': 0}, 'output_token_details': {'audio': 0, 'reasoning': 0}})]\n",
      "Calling: {'name': 'tavily_search_results_json', 'args': {'query': 'weather in San Francisco'}, 'id': 'call_YDX5lzFtJ1czVNBnXy3JTH9N', 'type': 'tool_call'}\n",
      "Back to the model!\n",
      "[ToolMessage(content='[{\\'title\\': \\'Thursday, May 8, 2025. San Francisco, CA - Weather Forecast\\', \\'url\\': \\'https://weathershogun.com/weather/usa/ca/san-francisco/480/may/2025-05-08\\', \\'content\\': \\'San Francisco, California Weather: Thursday, May 8, 2025. Cloudy weather, overcast skies with clouds. Day 66°. Night 52°. Precipitation 25 %.\\', \\'score\\': 0.9639738}, {\\'title\\': \\'Weather in San Francisco in May 2025 (California)\\', \\'url\\': \\'https://world-weather.info/forecast/usa/san_francisco/may-2025/\\', \\'content\\': \"Weather in San Francisco in May 2025\\\\n\\\\nSan Francisco Weather Forecast for May 2025 is based on long term prognosis and previous years\\' statistical data.\\\\n\\\\nMay\\\\n\\\\n+52°\\\\n\\\\n+52°\\\\n\\\\n+52°\\\\n\\\\n+50°\\\\n\\\\n+57°\\\\n\\\\n+55°\\\\n\\\\n+54°\\\\n\\\\n+48°\\\\n\\\\n+52°\\\\n\\\\n+52°\\\\n\\\\n+54°\\\\n\\\\n+54°\\\\n\\\\n+52°\\\\n\\\\n+50°\\\\n\\\\n+50°\\\\n\\\\n+52°\\\\n\\\\n+50°\\\\n\\\\n+52°\\\\n\\\\n+54°\\\\n\\\\n+52°\\\\n\\\\n+52°\\\\n\\\\n+52°\\\\n\\\\n+52°\\\\n\\\\n+55°\\\\n\\\\n+55°\\\\n\\\\n+55°\\\\n\\\\n+55°\\\\n\\\\n+57°\\\\n\\\\n+55°\\\\n\\\\n+55°\\\\n\\\\n+55°\\\\n\\\\nExtended weather forecast in San Francisco\\\\n\\\\nWeather in large and nearby cities\\\\n\\\\nWeather in Washington, D.C.+61°\\\\n\\\\nSacramento+54°\\\\n\\\\nPleasanton+50°\", \\'score\\': 0.92142147}, {\\'title\\': \\'Weather in San Francisco in May 2025 - Detailed Forecast\\', \\'url\\': \\'https://www.easeweather.com/north-america/united-states/california/city-and-county-of-san-francisco/san-francisco/may\\', \\'content\\': \\'| --- | --- | --- | --- | --- | --- |\\\\n| May 1 | \\\\nSunny\\\\n| 62° /48° | 0.02\\\\xa0in | 5 |  |\\\\n| May 2 | \\\\nSunny\\\\n| 62° /48° | 0.07\\\\xa0in | 5 |  |\\\\n| May 3 | \\\\nSunny\\\\n| 66° /48° | 0.1\\\\xa0in | 5 |  |\\\\n| May 4 | \\\\nSunny\\\\n| 64° /50° | 0.21\\\\xa0in | 5 |  |\\\\n| May 5 | \\\\nPartly cloudy\\\\n| 60° /46° | 0\\\\xa0in | 5 |  |\\\\n| May 6 | \\\\nSunny\\\\n| 60° /48° | 0.02\\\\xa0in | 4 |  |\\\\n| May 7 | \\\\nPartly cloudy\\\\n| 62° /46° | 0\\\\xa0in | 5 |  |\\\\n| May 8 | \\\\nSunny\\\\n| 64° /48° | 0.01\\\\xa0in | 5 |  |\\\\n| May 9 | \\\\nSunny\\\\n| 64° /50° | 0.01\\\\xa0in | 5 |  |\\\\n| May 10 | \\\\nSunny [...] More\\\\n\\\\nNew! Chat with our AI weatherman - it’s amazing and free.\\\\n\\\\n\\\\n28\\\\nDry days\\\\n\\\\n3\\\\nRainy days\\\\n\\\\n0\\\\nSnow days\\\\n\\\\n64.4°/50°\\\\nTemperatures\\\\n\\\\n12.4\\\\xa0mph\\\\nAvg max wind\\\\n\\\\n72 %\\\\nAvg humidity [...] May\\\\nJanuaryFebruaryMarchApril\\\\nMay\\\\nJuneJulyAugustSeptemberOctoberNovemberDecember\\\\nWeather in San Francisco for May 2025\\\\nYour guide to San Francisco weather in May - trends and predictions\\\\nTemperatures\\\\n\\\\nIn general, the average temperature in San Francisco at the beginning of May is 62\\\\xa0°F. As the month progressed, temperatures tended to moderately rise, reaching an average of 65\\\\xa0°F by the end of May.\\\\n\\\\nRain 🌧️\\\\n\\\\nWith an average of 3 rainy days, San Francisco experiences minimal rainfall in May.\\', \\'score\\': 0.91988057}, {\\'title\\': \\'Weather in San Francisco\\', \\'url\\': \\'https://www.weatherapi.com/\\', \\'content\\': \"{\\'location\\': {\\'name\\': \\'San Francisco\\', \\'region\\': \\'California\\', \\'country\\': \\'United States of America\\', \\'lat\\': 37.775, \\'lon\\': -122.4183, \\'tz_id\\': \\'America/Los_Angeles\\', \\'localtime_epoch\\': 1746706055, \\'localtime\\': \\'2025-05-08 05:07\\'}, \\'current\\': {\\'last_updated_epoch\\': 1746705600, \\'last_updated\\': \\'2025-05-08 05:00\\', \\'temp_c\\': 11.7, \\'temp_f\\': 53.1, \\'is_day\\': 0, \\'condition\\': {\\'text\\': \\'Overcast\\', \\'icon\\': \\'//cdn.weatherapi.com/weather/64x64/night/122.png\\', \\'code\\': 1009}, \\'wind_mph\\': 2.9, \\'wind_kph\\': 4.7, \\'wind_degree\\': 195, \\'wind_dir\\': \\'SSW\\', \\'pressure_mb\\': 1019.0, \\'pressure_in\\': 30.1, \\'precip_mm\\': 0.0, \\'precip_in\\': 0.0, \\'humidity\\': 89, \\'cloud\\': 100, \\'feelslike_c\\': 11.8, \\'feelslike_f\\': 53.2, \\'windchill_c\\': 8.7, \\'windchill_f\\': 47.6, \\'heatindex_c\\': 9.5, \\'heatindex_f\\': 49.1, \\'dewpoint_c\\': 8.8, \\'dewpoint_f\\': 47.8, \\'vis_km\\': 16.0, \\'vis_miles\\': 9.0, \\'uv\\': 0.0, \\'gust_mph\\': 4.6, \\'gust_kph\\': 7.5}}\", \\'score\\': 0.9056718}]', name='tavily_search_results_json', tool_call_id='call_YDX5lzFtJ1czVNBnXy3JTH9N')]\n",
      "[AIMessage(content='The weather in San Francisco today is cloudy with overcast skies. The temperature during the day is around 66°F and drops to 52°F at night. There is a 25% chance of precipitation.', additional_kwargs={'refusal': None}, response_metadata={'token_usage': {'completion_tokens': 44, 'prompt_tokens': 1621, 'total_tokens': 1665, 'completion_tokens_details': {'accepted_prediction_tokens': 0, 'audio_tokens': 0, 'reasoning_tokens': 0, 'rejected_prediction_tokens': 0}, 'prompt_tokens_details': {'audio_tokens': 0, 'cached_tokens': 0}}, 'model_name': 'gpt-3.5-turbo-0125', 'system_fingerprint': None, 'id': 'chatcmpl-BUuu9QQ934vnbWwESw4mo64czbiZ7', 'service_tier': 'default', 'finish_reason': 'stop', 'logprobs': None}, id='run--4a621ce2-b354-4cdc-a056-8afa81a6b875-0', usage_metadata={'input_tokens': 1621, 'output_tokens': 44, 'total_tokens': 1665, 'input_token_details': {'audio': 0, 'cache_read': 0}, 'output_token_details': {'audio': 0, 'reasoning': 0}})]\n"
     ]
    }
   ],
   "source": [
    "for event in bot.graph.stream({\"messages\": messages}, thread):\n",
    "    for v in event.values():\n",
    "        print(v['messages'])"
   ]
  },
  {
   "cell_type": "code",
   "execution_count": 16,
   "id": "c1de7e22-9615-44b5-a15e-24e38ffc1bd3",
   "metadata": {},
   "outputs": [
    {
     "name": "stdout",
     "output_type": "stream",
     "text": [
      "{'messages': [AIMessage(content='', additional_kwargs={'tool_calls': [{'id': 'call_J6Th3fH2wdjxfHbiu2OrKcRO', 'function': {'arguments': '{\"query\":\"weather in Los Angeles\"}', 'name': 'tavily_search_results_json'}, 'type': 'function'}], 'refusal': None}, response_metadata={'token_usage': {'completion_tokens': 22, 'prompt_tokens': 1676, 'total_tokens': 1698, 'completion_tokens_details': {'accepted_prediction_tokens': 0, 'audio_tokens': 0, 'reasoning_tokens': 0, 'rejected_prediction_tokens': 0}, 'prompt_tokens_details': {'audio_tokens': 0, 'cached_tokens': 0}}, 'model_name': 'gpt-3.5-turbo-0125', 'system_fingerprint': None, 'id': 'chatcmpl-BUuuM6hXJSv5SlchxXLVPI36ndedg', 'service_tier': 'default', 'finish_reason': 'tool_calls', 'logprobs': None}, id='run--e4d656dc-94ef-4312-857c-bc8d335ef6d6-0', tool_calls=[{'name': 'tavily_search_results_json', 'args': {'query': 'weather in Los Angeles'}, 'id': 'call_J6Th3fH2wdjxfHbiu2OrKcRO', 'type': 'tool_call'}], usage_metadata={'input_tokens': 1676, 'output_tokens': 22, 'total_tokens': 1698, 'input_token_details': {'audio': 0, 'cache_read': 0}, 'output_token_details': {'audio': 0, 'reasoning': 0}})]}\n",
      "Calling: {'name': 'tavily_search_results_json', 'args': {'query': 'weather in Los Angeles'}, 'id': 'call_J6Th3fH2wdjxfHbiu2OrKcRO', 'type': 'tool_call'}\n",
      "Back to the model!\n",
      "{'messages': [ToolMessage(content='[{\\'title\\': \\'Weather in Los Angeles\\', \\'url\\': \\'https://www.weatherapi.com/\\', \\'content\\': \"{\\'location\\': {\\'name\\': \\'Los Angeles\\', \\'region\\': \\'California\\', \\'country\\': \\'United States of America\\', \\'lat\\': 34.0522, \\'lon\\': -118.2428, \\'tz_id\\': \\'America/Los_Angeles\\', \\'localtime_epoch\\': 1746706061, \\'localtime\\': \\'2025-05-08 05:07\\'}, \\'current\\': {\\'last_updated_epoch\\': 1746705600, \\'last_updated\\': \\'2025-05-08 05:00\\', \\'temp_c\\': 13.9, \\'temp_f\\': 57.0, \\'is_day\\': 0, \\'condition\\': {\\'text\\': \\'Partly Cloudy\\', \\'icon\\': \\'//cdn.weatherapi.com/weather/64x64/night/116.png\\', \\'code\\': 1003}, \\'wind_mph\\': 2.2, \\'wind_kph\\': 3.6, \\'wind_degree\\': 245, \\'wind_dir\\': \\'WSW\\', \\'pressure_mb\\': 1018.0, \\'pressure_in\\': 30.07, \\'precip_mm\\': 0.0, \\'precip_in\\': 0.0, \\'humidity\\': 89, \\'cloud\\': 0, \\'feelslike_c\\': 14.6, \\'feelslike_f\\': 58.2, \\'windchill_c\\': 14.1, \\'windchill_f\\': 57.4, \\'heatindex_c\\': 14.1, \\'heatindex_f\\': 57.3, \\'dewpoint_c\\': 12.3, \\'dewpoint_f\\': 54.2, \\'vis_km\\': 14.0, \\'vis_miles\\': 8.0, \\'uv\\': 0.0, \\'gust_mph\\': 6.7, \\'gust_kph\\': 10.8}}\", \\'score\\': 0.9279897}, {\\'title\\': \\'Current Weather - Los Angeles, CA - AccuWeather\\', \\'url\\': \\'https://www.accuweather.com/en/us/los-angeles/90012/current-weather/347625\\', \\'content\\': \\'RealFeel Guide\\\\nChilly\\\\n40° to 52°\\\\nJacket or sweater is recommended.\\\\nLEARN MORE\\\\nPartly cloudy\\\\nWindSE 5 mph\\\\nWind Gusts9 mph\\\\nProbability of Precipitation0%\\\\nProbability of Thunderstorms0%\\\\nPrecipitation0.00 in\\\\nCloud Cover66%\\\\nEvening\\\\nOvernight\\\\nAccuWeather NOW [...] Current Weather\\\\n5:03 PM\\\\n58°F\\\\nMostly sunny\\\\nRealFeel® 61°\\\\nCool\\\\nRealFeel Guide\\\\nCool\\\\n53° to 62°\\\\nLight jacket or sweater may be appropriate.\\\\nLEARN MORE\\\\nRealFeel Shade™ 58°\\\\nCool\\\\nRealFeel Guide\\\\nCool\\\\n53° to 62°\\\\nLight jacket or sweater may be appropriate.\\\\nLEARN MORE\\\\nRealFeel®\\\\n61°\\\\nRealFeel Shade™\\\\n58°\\\\nMax UV Index\\\\n1 Low\\\\nWind\\\\nSW 3 mph\\\\nWind Gusts\\\\n6 mph\\\\nHumidity\\\\n81%\\\\nIndoor Humidity\\\\n57% (Ideal Humidity)\\\\nDew Point\\\\n52° F\\\\nPressure\\\\n↓ 30.09 in\\\\nCloud Cover\\\\n27%\\\\nVisibility\\\\n10 mi\\\\nCloud Ceiling\\\\n40000 ft\\\\nDay\\\\n2/7\\\\n60°Hi [...] RealFeel® 61°\\\\nCool\\\\nRealFeel Guide\\\\nCool\\\\n53° to 62°\\\\nLight jacket or sweater may be appropriate.\\\\nLEARN MORE\\\\nRealFeel Shade™ 59°\\\\nCool\\\\nRealFeel Guide\\\\nCool\\\\n53° to 62°\\\\nLight jacket or sweater may be appropriate.\\\\nLEARN MORE\\\\nCool; cloudy this morning, then times of clouds and sun this afternoon\\\\nMax UV Index3 Moderate\\\\nWindSW 7 mph\\\\nWind Gusts18 mph\\\\nProbability of Precipitation25%\\\\nProbability of Thunderstorms1%\\\\nPrecipitation0.00 in\\\\nCloud Cover72%\\\\nMorning\\\\nAfternoon\\\\nNight\\\\n2/7\\\\n48°Lo\\\\nRealFeel® 48°\\\\nChilly\\', \\'score\\': 0.6241337}, {\\'title\\': \\'Weather Forecast and Conditions for Los Angeles, CA\\', \\'url\\': \\'https://weather.com/weather/today/l/Los+Angeles+CA?canonicalCityId=7d3c65d8b80674fb48647ddbc936bb8b\\', \\'content\\': \\'### Today --/55° 55° Mostly Clear Chance of Rain8%\\\\n### Thu 08 78°/58° 58° Partly Cloudy Chance of Rain7%\\\\n### Fri 09 88°/61° 61° Partly Cloudy Chance of Rain6%\\\\n### Sat 10 90°/62° 62° Mostly Sunny Chance of Rain2%\\\\n### Sun 11 82°/58° 58° Partly Cloudy Chance of Rain2% [...] ### Now 64° Sunny Chance of Rain1%\\\\n### 7 pm 63° Sunny Chance of Rain1%\\\\n### 8 pm 61° Clear Chance of Rain1%\\\\n### 9 pm 60° Clear Chance of Rain2%\\\\n### 10 pm 60° Clear Chance of Rain2% [...] Day\\\\xa070°\\\\xa0•\\\\xa0Night\\\\xa055°\\\\nWatch: Venomous Ants Are Taking Over The Southeast\\\\nWeather Today in Los Angeles, CA\\\\nFeels Like64°\\\\n5:57 am\\\\n7:41 pm\\\\nHigh / Low\\\\n--/55°\\\\nWind\\\\n5\\\\xa0mph\\\\nHumidity\\\\n72%\\\\nDew Point\\\\n55°\\\\nPressure\\\\n29.97\\\\xa0in\\\\nUV Index\\\\n0 of 11\\\\nVisibility\\\\n9 mi\\\\nMoon Phase\\\\nWaxing Gibbous\\\\nAdvertisement\\', \\'score\\': 0.61112726}, {\\'title\\': \\'Los Angeles, CA Weather Forecast - AccuWeather\\', \\'url\\': \\'https://www.accuweather.com/en/us/los-angeles/90012/weather-forecast/347625\\', \\'content\\': \\'Current Weather --------------- 5:03 PM 58°F RealFeel® 61° Mostly sunny More Details RealFeel Shade™ 58° Wind SW 3 mph Wind Gusts 6 mph Air Quality Fair\\\\nLos Angeles Weather Radar & Maps\\\\n Static Radar Temporarily Unavailable Thank you for your patience as we work to get everything up and running again. Refresh Page\\\\n Clouds  Temperature\\\\nHourly Weather [...] 6 PM  56°  0%7 PM  55°  0%8 PM  53°  0%9 PM  52°  0%10 PM  52°  0%11 PM  52°  0%12 AM  51°  0%1 AM  51°  0%2 AM  51°  0%3 AM  50°  0%4 AM  50°  0%5 AM  50°  0%\\\\nAccuWeather NOW\\', \\'score\\': 0.53619206}]', name='tavily_search_results_json', tool_call_id='call_J6Th3fH2wdjxfHbiu2OrKcRO')]}\n",
      "{'messages': [AIMessage(content='The weather in Los Angeles right now is partly cloudy. The temperature is around 57°F. The humidity is at 89%.', additional_kwargs={'refusal': None}, response_metadata={'token_usage': {'completion_tokens': 28, 'prompt_tokens': 3272, 'total_tokens': 3300, 'completion_tokens_details': {'accepted_prediction_tokens': 0, 'audio_tokens': 0, 'reasoning_tokens': 0, 'rejected_prediction_tokens': 0}, 'prompt_tokens_details': {'audio_tokens': 0, 'cached_tokens': 0}}, 'model_name': 'gpt-3.5-turbo-0125', 'system_fingerprint': None, 'id': 'chatcmpl-BUuuQ62mptgFEy23LINOZVLZd7iOo', 'service_tier': 'default', 'finish_reason': 'stop', 'logprobs': None}, id='run--bfce13a9-c5af-4149-9c0f-874c2704e2b9-0', usage_metadata={'input_tokens': 3272, 'output_tokens': 28, 'total_tokens': 3300, 'input_token_details': {'audio': 0, 'cache_read': 0}, 'output_token_details': {'audio': 0, 'reasoning': 0}})]}\n"
     ]
    }
   ],
   "source": [
    "messages = [HumanMessage(content=\"What about in la?\")]\n",
    "thread = {\"configurable\": {\"thread_id\": \"1\"}}\n",
    "for event in bot.graph.stream({\"messages\": messages}, thread):\n",
    "    for v in event.values():\n",
    "        print(v)"
   ]
  },
  {
   "cell_type": "code",
   "execution_count": 18,
   "id": "db04addb-ec2b-4d67-8052-878868242ddd",
   "metadata": {},
   "outputs": [
    {
     "name": "stdout",
     "output_type": "stream",
     "text": [
      "{'messages': [AIMessage(content='San Francisco is currently warmer than Los Angeles. San Francisco has a temperature of 66°F while Los Angeles has a temperature of 57°F.', additional_kwargs={'refusal': None}, response_metadata={'token_usage': {'completion_tokens': 31, 'prompt_tokens': 3311, 'total_tokens': 3342, 'completion_tokens_details': {'accepted_prediction_tokens': 0, 'audio_tokens': 0, 'reasoning_tokens': 0, 'rejected_prediction_tokens': 0}, 'prompt_tokens_details': {'audio_tokens': 0, 'cached_tokens': 0}}, 'model_name': 'gpt-3.5-turbo-0125', 'system_fingerprint': None, 'id': 'chatcmpl-BUuunCiHHxaGvoZL8XL4BzIbxxzH1', 'service_tier': 'default', 'finish_reason': 'stop', 'logprobs': None}, id='run--40fd68eb-6b21-4d4c-b4aa-6a4e0616abf7-0', usage_metadata={'input_tokens': 3311, 'output_tokens': 31, 'total_tokens': 3342, 'input_token_details': {'audio': 0, 'cache_read': 0}, 'output_token_details': {'audio': 0, 'reasoning': 0}})]}\n"
     ]
    }
   ],
   "source": [
    "messages = [HumanMessage(content=\"Which one is warmer?\")]\n",
    "thread = {\"configurable\": {\"thread_id\": \"1\"}}\n",
    "for event in bot.graph.stream({\"messages\": messages}, thread):\n",
    "    for v in event.values():\n",
    "        print(v)"
   ]
  },
  {
   "cell_type": "code",
   "execution_count": 19,
   "id": "efc7de18-4dcb-42a9-a361-c2cf1434ec08",
   "metadata": {},
   "outputs": [
    {
     "name": "stdout",
     "output_type": "stream",
     "text": [
      "{'messages': [AIMessage(content='Sure, I can look up information to compare the temperature of two different places. Please provide the names of the places you would like me to compare for their current temperatures.', additional_kwargs={'refusal': None}, response_metadata={'token_usage': {'completion_tokens': 36, 'prompt_tokens': 151, 'total_tokens': 187, 'completion_tokens_details': {'accepted_prediction_tokens': 0, 'audio_tokens': 0, 'reasoning_tokens': 0, 'rejected_prediction_tokens': 0}, 'prompt_tokens_details': {'audio_tokens': 0, 'cached_tokens': 0}}, 'model_name': 'gpt-3.5-turbo-0125', 'system_fingerprint': None, 'id': 'chatcmpl-BUuv17nkNhYIuEK5nzE0B0ZQAiOfQ', 'service_tier': 'default', 'finish_reason': 'stop', 'logprobs': None}, id='run--bd1d0b61-530c-4b2f-8356-97194a26ee89-0', usage_metadata={'input_tokens': 151, 'output_tokens': 36, 'total_tokens': 187, 'input_token_details': {'audio': 0, 'cache_read': 0}, 'output_token_details': {'audio': 0, 'reasoning': 0}})]}\n"
     ]
    }
   ],
   "source": [
    "messages = [HumanMessage(content=\"Which one is warmer?\")]\n",
    "thread = {\"configurable\": {\"thread_id\": \"2\"}}\n",
    "for event in bot.graph.stream({\"messages\": messages}, thread):\n",
    "    for v in event.values():\n",
    "        print(v)"
   ]
  },
  {
   "cell_type": "code",
   "execution_count": null,
   "id": "af208a8e-1514-4634-98d3-d8407c147b98",
   "metadata": {},
   "outputs": [],
   "source": []
  }
 ],
 "metadata": {
  "kernelspec": {
   "display_name": "Python (lang)",
   "language": "python",
   "name": "lang"
  },
  "language_info": {
   "codemirror_mode": {
    "name": "ipython",
    "version": 3
   },
   "file_extension": ".py",
   "mimetype": "text/x-python",
   "name": "python",
   "nbconvert_exporter": "python",
   "pygments_lexer": "ipython3",
   "version": "3.13.2"
  }
 },
 "nbformat": 4,
 "nbformat_minor": 5
}
